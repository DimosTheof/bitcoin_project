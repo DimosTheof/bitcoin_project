{
 "cells": [
  {
   "cell_type": "code",
   "execution_count": 1,
   "id": "f3619c42",
   "metadata": {},
   "outputs": [],
   "source": [
    "# Importing libraries\n",
    "import pandas as pd\n",
    "import matplotlib.pyplot as plt"
   ]
  },
  {
   "cell_type": "markdown",
   "id": "f05c6773",
   "metadata": {},
   "source": [
    "# Dataset of 2017"
   ]
  },
  {
   "cell_type": "code",
   "execution_count": 2,
   "id": "46ef8c46",
   "metadata": {},
   "outputs": [
    {
     "name": "stdout",
     "output_type": "stream",
     "text": [
      "1031\n",
      "1326\n"
     ]
    }
   ],
   "source": [
    "df17 = pd.read_csv(\"datasets/coinmarketcap_06122017.csv\")\n",
    "market_cap_raw =df17[[\"id\",\"market_cap_usd\"]]\n",
    "print(market_cap_raw[\"market_cap_usd\"].count())\n",
    "print(market_cap_raw[\"id\"].count())"
   ]
  },
  {
   "cell_type": "code",
   "execution_count": 3,
   "id": "bf9f27c1",
   "metadata": {},
   "outputs": [
    {
     "data": {
      "text/html": [
       "<div>\n",
       "<style scoped>\n",
       "    .dataframe tbody tr th:only-of-type {\n",
       "        vertical-align: middle;\n",
       "    }\n",
       "\n",
       "    .dataframe tbody tr th {\n",
       "        vertical-align: top;\n",
       "    }\n",
       "\n",
       "    .dataframe thead th {\n",
       "        text-align: right;\n",
       "    }\n",
       "</style>\n",
       "<table border=\"1\" class=\"dataframe\">\n",
       "  <thead>\n",
       "    <tr style=\"text-align: right;\">\n",
       "      <th></th>\n",
       "      <th>Unnamed: 0</th>\n",
       "      <th>24h_volume_usd</th>\n",
       "      <th>available_supply</th>\n",
       "      <th>id</th>\n",
       "      <th>last_updated</th>\n",
       "      <th>market_cap_usd</th>\n",
       "      <th>max_supply</th>\n",
       "      <th>name</th>\n",
       "      <th>percent_change_1h</th>\n",
       "      <th>percent_change_24h</th>\n",
       "      <th>percent_change_7d</th>\n",
       "      <th>price_btc</th>\n",
       "      <th>price_usd</th>\n",
       "      <th>rank</th>\n",
       "      <th>symbol</th>\n",
       "      <th>total_supply</th>\n",
       "    </tr>\n",
       "  </thead>\n",
       "  <tbody>\n",
       "    <tr>\n",
       "      <th>0</th>\n",
       "      <td>0</td>\n",
       "      <td>9.007640e+09</td>\n",
       "      <td>1.672352e+07</td>\n",
       "      <td>bitcoin</td>\n",
       "      <td>1512549554</td>\n",
       "      <td>2.130493e+11</td>\n",
       "      <td>2.100000e+07</td>\n",
       "      <td>Bitcoin</td>\n",
       "      <td>0.12</td>\n",
       "      <td>7.33</td>\n",
       "      <td>17.45</td>\n",
       "      <td>1.000000</td>\n",
       "      <td>12739.500000</td>\n",
       "      <td>1</td>\n",
       "      <td>BTC</td>\n",
       "      <td>1.672352e+07</td>\n",
       "    </tr>\n",
       "    <tr>\n",
       "      <th>1</th>\n",
       "      <td>1</td>\n",
       "      <td>1.551330e+09</td>\n",
       "      <td>9.616537e+07</td>\n",
       "      <td>ethereum</td>\n",
       "      <td>1512549553</td>\n",
       "      <td>4.352945e+10</td>\n",
       "      <td>NaN</td>\n",
       "      <td>Ethereum</td>\n",
       "      <td>-0.18</td>\n",
       "      <td>-3.93</td>\n",
       "      <td>-7.33</td>\n",
       "      <td>0.036177</td>\n",
       "      <td>452.652000</td>\n",
       "      <td>2</td>\n",
       "      <td>ETH</td>\n",
       "      <td>9.616537e+07</td>\n",
       "    </tr>\n",
       "    <tr>\n",
       "      <th>2</th>\n",
       "      <td>2</td>\n",
       "      <td>1.111350e+09</td>\n",
       "      <td>1.684044e+07</td>\n",
       "      <td>bitcoin-cash</td>\n",
       "      <td>1512549578</td>\n",
       "      <td>2.529585e+10</td>\n",
       "      <td>2.100000e+07</td>\n",
       "      <td>Bitcoin Cash</td>\n",
       "      <td>1.65</td>\n",
       "      <td>-5.51</td>\n",
       "      <td>-4.75</td>\n",
       "      <td>0.120050</td>\n",
       "      <td>1502.090000</td>\n",
       "      <td>3</td>\n",
       "      <td>BCH</td>\n",
       "      <td>1.684044e+07</td>\n",
       "    </tr>\n",
       "    <tr>\n",
       "      <th>3</th>\n",
       "      <td>3</td>\n",
       "      <td>2.936090e+09</td>\n",
       "      <td>2.779530e+09</td>\n",
       "      <td>iota</td>\n",
       "      <td>1512549571</td>\n",
       "      <td>1.475225e+10</td>\n",
       "      <td>2.779530e+09</td>\n",
       "      <td>IOTA</td>\n",
       "      <td>-2.38</td>\n",
       "      <td>83.35</td>\n",
       "      <td>255.82</td>\n",
       "      <td>0.000424</td>\n",
       "      <td>5.307460</td>\n",
       "      <td>4</td>\n",
       "      <td>MIOTA</td>\n",
       "      <td>2.779530e+09</td>\n",
       "    </tr>\n",
       "    <tr>\n",
       "      <th>4</th>\n",
       "      <td>4</td>\n",
       "      <td>2.315050e+08</td>\n",
       "      <td>3.873915e+10</td>\n",
       "      <td>ripple</td>\n",
       "      <td>1512549541</td>\n",
       "      <td>9.365343e+09</td>\n",
       "      <td>1.000000e+11</td>\n",
       "      <td>Ripple</td>\n",
       "      <td>0.56</td>\n",
       "      <td>-3.70</td>\n",
       "      <td>-14.79</td>\n",
       "      <td>0.000019</td>\n",
       "      <td>0.241754</td>\n",
       "      <td>5</td>\n",
       "      <td>XRP</td>\n",
       "      <td>9.999309e+10</td>\n",
       "    </tr>\n",
       "  </tbody>\n",
       "</table>\n",
       "</div>"
      ],
      "text/plain": [
       "   Unnamed: 0  24h_volume_usd  available_supply            id  last_updated  \\\n",
       "0           0    9.007640e+09      1.672352e+07       bitcoin    1512549554   \n",
       "1           1    1.551330e+09      9.616537e+07      ethereum    1512549553   \n",
       "2           2    1.111350e+09      1.684044e+07  bitcoin-cash    1512549578   \n",
       "3           3    2.936090e+09      2.779530e+09          iota    1512549571   \n",
       "4           4    2.315050e+08      3.873915e+10        ripple    1512549541   \n",
       "\n",
       "   market_cap_usd    max_supply          name  percent_change_1h  \\\n",
       "0    2.130493e+11  2.100000e+07       Bitcoin               0.12   \n",
       "1    4.352945e+10           NaN      Ethereum              -0.18   \n",
       "2    2.529585e+10  2.100000e+07  Bitcoin Cash               1.65   \n",
       "3    1.475225e+10  2.779530e+09          IOTA              -2.38   \n",
       "4    9.365343e+09  1.000000e+11        Ripple               0.56   \n",
       "\n",
       "   percent_change_24h  percent_change_7d  price_btc     price_usd  rank  \\\n",
       "0                7.33              17.45   1.000000  12739.500000     1   \n",
       "1               -3.93              -7.33   0.036177    452.652000     2   \n",
       "2               -5.51              -4.75   0.120050   1502.090000     3   \n",
       "3               83.35             255.82   0.000424      5.307460     4   \n",
       "4               -3.70             -14.79   0.000019      0.241754     5   \n",
       "\n",
       "  symbol  total_supply  \n",
       "0    BTC  1.672352e+07  \n",
       "1    ETH  9.616537e+07  \n",
       "2    BCH  1.684044e+07  \n",
       "3  MIOTA  2.779530e+09  \n",
       "4    XRP  9.999309e+10  "
      ]
     },
     "execution_count": 3,
     "metadata": {},
     "output_type": "execute_result"
    }
   ],
   "source": [
    "df17.head()"
   ]
  },
  {
   "cell_type": "code",
   "execution_count": 4,
   "id": "4f17dba3",
   "metadata": {},
   "outputs": [
    {
     "name": "stdout",
     "output_type": "stream",
     "text": [
      "1031\n",
      "1031\n"
     ]
    }
   ],
   "source": [
    "# Filtering out rows without a market capitalization since the counts above are different. \n",
    "cap = market_cap_raw.query('market_cap_usd == market_cap_usd ' )\n",
    "print(cap[\"market_cap_usd\"].count())\n",
    "print(cap[\"id\"].count())\n",
    "#now we have a dataset in which every bitcoin company id is accompanied by its market capitalization"
   ]
  },
  {
   "cell_type": "code",
   "execution_count": 7,
   "id": "e82b48b7",
   "metadata": {},
   "outputs": [
    {
     "data": {
      "text/html": [
       "<div>\n",
       "<style scoped>\n",
       "    .dataframe tbody tr th:only-of-type {\n",
       "        vertical-align: middle;\n",
       "    }\n",
       "\n",
       "    .dataframe tbody tr th {\n",
       "        vertical-align: top;\n",
       "    }\n",
       "\n",
       "    .dataframe thead th {\n",
       "        text-align: right;\n",
       "    }\n",
       "</style>\n",
       "<table border=\"1\" class=\"dataframe\">\n",
       "  <thead>\n",
       "    <tr style=\"text-align: right;\">\n",
       "      <th></th>\n",
       "      <th>market_cap_usd</th>\n",
       "    </tr>\n",
       "  </thead>\n",
       "  <tbody>\n",
       "    <tr>\n",
       "      <th>count</th>\n",
       "      <td>1.031000e+03</td>\n",
       "    </tr>\n",
       "    <tr>\n",
       "      <th>mean</th>\n",
       "      <td>3.630503e+08</td>\n",
       "    </tr>\n",
       "    <tr>\n",
       "      <th>std</th>\n",
       "      <td>6.844947e+09</td>\n",
       "    </tr>\n",
       "    <tr>\n",
       "      <th>min</th>\n",
       "      <td>1.000000e+01</td>\n",
       "    </tr>\n",
       "    <tr>\n",
       "      <th>25%</th>\n",
       "      <td>1.880625e+05</td>\n",
       "    </tr>\n",
       "    <tr>\n",
       "      <th>50%</th>\n",
       "      <td>1.488564e+06</td>\n",
       "    </tr>\n",
       "    <tr>\n",
       "      <th>75%</th>\n",
       "      <td>1.546756e+07</td>\n",
       "    </tr>\n",
       "    <tr>\n",
       "      <th>max</th>\n",
       "      <td>2.130493e+11</td>\n",
       "    </tr>\n",
       "  </tbody>\n",
       "</table>\n",
       "</div>"
      ],
      "text/plain": [
       "       market_cap_usd\n",
       "count    1.031000e+03\n",
       "mean     3.630503e+08\n",
       "std      6.844947e+09\n",
       "min      1.000000e+01\n",
       "25%      1.880625e+05\n",
       "50%      1.488564e+06\n",
       "75%      1.546756e+07\n",
       "max      2.130493e+11"
      ]
     },
     "execution_count": 7,
     "metadata": {},
     "output_type": "execute_result"
    }
   ],
   "source": [
    "cap.describe()"
   ]
  },
  {
   "cell_type": "code",
   "execution_count": 8,
   "id": "5df8388f",
   "metadata": {},
   "outputs": [
    {
     "name": "stdout",
     "output_type": "stream",
     "text": [
      "              market_cap_usd\n",
      "id                          \n",
      "bitcoin         2.130493e+11\n",
      "ethereum        4.352945e+10\n",
      "bitcoin-cash    2.529585e+10\n",
      "iota            1.475225e+10\n",
      "ripple          9.365343e+09\n",
      "dash            5.794076e+09\n",
      "litecoin        5.634498e+09\n",
      "bitcoin-gold    4.920065e+09\n",
      "monero          4.331688e+09\n",
      "cardano         3.231420e+09\n"
     ]
    },
    {
     "data": {
      "image/png": "[encoded data removed]",
      "text/plain": [
       "<Figure size 432x288 with 1 Axes>"
      ]
     },
     "metadata": {
      "needs_background": "light"
     },
     "output_type": "display_data"
    }
   ],
   "source": [
    "# Selecting the first 10 biggest, in terms of market capitalization, bitcoins\n",
    "cap10 = market_cap_raw.sort_values(by=\"market_cap_usd\",ascending=False).iloc[0:10]\n",
    "cap10=cap10.set_index(\"id\")\n",
    "print(cap10)\n",
    "\n",
    "# Calculating market_cap_perc. We divide by the sum of the market capitalization of each of the 1031 bitcoins id we have in the cap dataframe\n",
    "cap10 = cap10.assign(market_cap_perc = lambda x: (x.market_cap_usd / cap.market_cap_usd.sum())*100)\n",
    "\n",
    "\n",
    "TOP_CAP_TITLE = 'Top 10 market capitalization'\n",
    "TOP_CAP_YLABEL = '% of total cap'\n",
    "ax = cap10.plot(y=\"market_cap_perc\",kind=\"bar\",title=TOP_CAP_TITLE)\n",
    "ax.set_ylabel(TOP_CAP_YLABEL)\n",
    "plt.show()"
   ]
  },
  {
   "cell_type": "code",
   "execution_count": 10,
   "id": "ee478c2a",
   "metadata": {},
   "outputs": [
    {
     "data": {
      "image/png": "[encoded data removed]",
      "text/plain": [
       "<Figure size 432x288 with 1 Axes>"
      ]
     },
     "metadata": {
      "needs_background": "light"
     },
     "output_type": "display_data"
    }
   ],
   "source": [
    "# Colors for the bar plot\n",
    "COLORS = ['orange', 'green', 'orange', 'cyan', 'black', 'blue', 'silver', 'orange', 'red', 'green']\n",
    "\n",
    "# Plotting market_cap_usd but we scale with log10 instead of using percentages. The colors are suggestion of the project template and signify similarities between bitcoins\n",
    "ax = cap10.plot(y=\"market_cap_usd\",kind=\"bar\",title=TOP_CAP_TITLE,color=COLORS)\n",
    "ax.set_yscale('log')\n",
    "ax.set_ylabel(\"USD\")\n",
    "ax.set_xlabel(\"\")\n",
    "plt.show()"
   ]
  },
  {
   "cell_type": "code",
   "execution_count": 11,
   "id": "dfa511d7",
   "metadata": {},
   "outputs": [
    {
     "name": "stdout",
     "output_type": "stream",
     "text": [
      "               percent_change_24h  percent_change_7d\n",
      "id                                                  \n",
      "flappycoin                 -95.85             -96.61\n",
      "credence-coin              -94.22             -95.31\n",
      "coupecoin                  -93.93             -61.24\n",
      "tyrocoin                   -79.02             -87.43\n",
      "petrodollar                -76.55             542.96\n",
      "percent_change_24h     7.33\n",
      "percent_change_7d     17.45\n",
      "Name: bitcoin, dtype: float64\n"
     ]
    }
   ],
   "source": [
    "# We select the id, percent_change_24h and percent_change_7d columns of the initial dataset and make some minor modifications to our dataset\n",
    "volatility = df17[[\"id\",\"percent_change_24h\",\"percent_change_7d\"]]\n",
    "volatility =volatility.set_index(\"id\")\n",
    "volatility =volatility.dropna()\n",
    "\n",
    "# Sorting the DataFrame by percent_change_24h in ascending order\n",
    "volatility =volatility.sort_values(\"percent_change_24h\",ascending=True)\n",
    "print(volatility.head())\n",
    "print(volatility.loc['bitcoin'])\n",
    "#There seem to be huge changes, mainly losses that signify an instability and unpredicatibility"
   ]
  },
  {
   "cell_type": "code",
   "execution_count": 12,
   "id": "61a246c4",
   "metadata": {},
   "outputs": [
    {
     "data": {
      "image/png": "[encoded data removed]",
      "text/plain": [
       "<Figure size 720x432 with 2 Axes>"
      ]
     },
     "metadata": {
      "needs_background": "light"
     },
     "output_type": "display_data"
    }
   ],
   "source": [
    "#Defining a function with 2 parameters, the series to plot and the title\n",
    "def top10_subplot(volatility_series, title):\n",
    "    # Making the subplot and the figure for two side by side plots\n",
    "    fig, axes = plt.subplots(nrows=1, ncols=2, figsize=(10, 6))\n",
    "    \n",
    "    # Plotting  the barchart for the top 10 losers\n",
    "    ax = (volatility_series[:10]. plot.bar(color=\"darkred\",\n",
    "             ax=axes[0]))\n",
    "\n",
    "    fig.suptitle(title)\n",
    "    ax.set_ylabel(\"% change\")\n",
    "    # Plotting  the barchart for the top 10 winners. \n",
    "    ax = (volatility_series[-10:]. plot.bar(color=\"darkblue\",\n",
    "             ax=axes[1]))\n",
    "    return fig, ax\n",
    "\n",
    "DTITLE = \"24 hours top losers and winners\"\n",
    "\n",
    "# Calling the function above with the 24 hours period series and title DTITLE  \n",
    "fig, ax = top10_subplot(volatility.percent_change_24h, DTITLE)"
   ]
  },
  {
   "cell_type": "code",
   "execution_count": 13,
   "id": "c9bb872a",
   "metadata": {},
   "outputs": [
    {
     "data": {
      "image/png": "[encoded data removed]",
      "text/plain": [
       "<Figure size 720x432 with 2 Axes>"
      ]
     },
     "metadata": {
      "needs_background": "light"
     },
     "output_type": "display_data"
    }
   ],
   "source": [
    "#We move to the weekly changes\n",
    "# Sorting in ascending order\n",
    "volatility =volatility.sort_values(\"percent_change_7d\",ascending=True)\n",
    "\n",
    "WTITLE = \"Weekly top losers and winners\"\n",
    "\n",
    "# Calling the top10_subplot function\n",
    "fig, ax =top10_subplot(volatility.percent_change_7d, WTITLE)"
   ]
  },
  {
   "cell_type": "code",
   "execution_count": 14,
   "id": "55560b98",
   "metadata": {},
   "outputs": [
    {
     "name": "stdout",
     "output_type": "stream",
     "text": [
      "             id  market_cap_usd\n",
      "0       bitcoin    2.130493e+11\n",
      "1      ethereum    4.352945e+10\n",
      "2  bitcoin-cash    2.529585e+10\n",
      "3          iota    1.475225e+10\n"
     ]
    }
   ],
   "source": [
    "# Selecting everything bigger than 10 billion \n",
    "largecaps =cap.query('market_cap_usd > 10**10 ' )\n",
    "print(largecaps)"
   ]
  },
  {
   "cell_type": "code",
   "execution_count": 15,
   "id": "5be8578a",
   "metadata": {},
   "outputs": [
    {
     "name": "stdout",
     "output_type": "stream",
     "text": [
      "[39, 96, 896]\n"
     ]
    },
    {
     "data": {
      "text/plain": [
       "[]"
      ]
     },
     "execution_count": 15,
     "metadata": {},
     "output_type": "execute_result"
    },
    {
     "data": {
      "image/png": "[encoded data removed]",
      "text/plain": [
       "<Figure size 432x288 with 1 Axes>"
      ]
     },
     "metadata": {
      "needs_background": "light"
     },
     "output_type": "display_data"
    }
   ],
   "source": [
    "# Making a function for counting different marketcaps from the cap dataframe. We make the classification according to investopedia\n",
    "\n",
    "def capcount(query_string):\n",
    "    return cap.query(query_string).count().id\n",
    "\n",
    "# Labels for the plot\n",
    "LABELS = [\"biggish\", \"micro\", \"nano\"]\n",
    "\n",
    "\n",
    "biggish = capcount(\"market_cap_usd > 3E+8\")\n",
    "micro = capcount(\"market_cap_usd >= 5E+7 & market_cap_usd < 3E+8\")\n",
    "nano =  capcount(\"market_cap_usd < 5E+7\")\n",
    "\n",
    "# Making a list with the 3 counts\n",
    "values = [biggish, micro, nano]\n",
    "print(values)\n",
    "\n",
    "plt.bar(range(len(values)), values, tick_label=LABELS)\n",
    "plt.plot()"
   ]
  },
  {
   "cell_type": "markdown",
   "id": "4288c8e4",
   "metadata": {},
   "source": [
    "Let's sum up what we have seen. According to the dataset (2017), Bitcoin has more than half of the market capitalization and it seems to have a small grow over the period of a day or week. \n",
    "Thus, it seems more stable although this is not something to be certain.\n",
    "In general, the fluctuations are huge over small periods of time and this makes investing random.\n",
    "Also, according to market capitalizitaion categories the amount of nano bitcoins is much larger than the ones that have big market cap."
   ]
  },
  {
   "cell_type": "markdown",
   "id": "248584cd",
   "metadata": {},
   "source": [
    "# Dataset of 2018"
   ]
  },
  {
   "cell_type": "code",
   "execution_count": 16,
   "id": "3e27bc73",
   "metadata": {},
   "outputs": [
    {
     "name": "stdout",
     "output_type": "stream",
     "text": [
      "100\n",
      "100\n"
     ]
    }
   ],
   "source": [
    "df18 = pd.read_csv(\"datasets/coinmarketcap_06012018.csv\")\n",
    "market_cap_raw_18 =df18[[\"id\",\"market_cap_usd\"]]\n",
    "print(market_cap_raw_18[\"market_cap_usd\"].count())\n",
    "print(market_cap_raw_18[\"id\"].count())"
   ]
  },
  {
   "cell_type": "markdown",
   "id": "864416b2",
   "metadata": {},
   "source": [
    "Our dataset now is much smaller so we will focus on particular bitcoins to see their evolution"
   ]
  },
  {
   "cell_type": "code",
   "execution_count": 17,
   "id": "0c1e45be",
   "metadata": {},
   "outputs": [
    {
     "name": "stdout",
     "output_type": "stream",
     "text": [
      "100\n",
      "100\n"
     ]
    }
   ],
   "source": [
    "#We again check if there are NaN values although since the counting we did, we expect their absence\n",
    "cap_18 = market_cap_raw_18.query('market_cap_usd == market_cap_usd ' )\n",
    "print(cap_18[\"market_cap_usd\"].count())\n",
    "print(cap_18[\"id\"].count())"
   ]
  },
  {
   "cell_type": "code",
   "execution_count": 18,
   "id": "13b11453",
   "metadata": {},
   "outputs": [
    {
     "name": "stdout",
     "output_type": "stream",
     "text": [
      "              market_cap_usd\n",
      "id                          \n",
      "bitcoin         284909052105\n",
      "ripple          119207709132\n",
      "ethereum        100115499075\n",
      "bitcoin-cash     44424061657\n",
      "cardano          25916647856\n",
      "litecoin         16574020942\n",
      "nem              14813369998\n",
      "stellar          12634630726\n",
      "tron             11741640953\n",
      "iota             11143859582\n"
     ]
    },
    {
     "data": {
      "image/png": "[encoded data removed]",
      "text/plain": [
       "<Figure size 432x288 with 1 Axes>"
      ]
     },
     "metadata": {
      "needs_background": "light"
     },
     "output_type": "display_data"
    }
   ],
   "source": [
    "# Selecting the first 10 biggest, in terms of market capitalization, bitcoins\n",
    "cap10_18 = market_cap_raw_18.sort_values(by=\"market_cap_usd\",ascending=False).iloc[0:10]\n",
    "cap10_18=cap10_18.set_index(\"id\")\n",
    "print(cap10_18)\n",
    "\n",
    "# Calculating market_cap_perc. We divide by the sum of the market capitalization of each of the 1031 bitcoins id we have in the cap dataframe\n",
    "cap10_18 = cap10_18.assign(market_cap_perc = lambda x: (x.market_cap_usd / cap_18.market_cap_usd.sum())*100)\n",
    "\n",
    "\n",
    "TOP_CAP_TITLE = 'Top 10 market capitalization'\n",
    "TOP_CAP_YLABEL = '% of total cap'\n",
    "ax = cap10_18.plot(y=\"market_cap_perc\",kind=\"bar\",title=TOP_CAP_TITLE)\n",
    "ax.set_ylabel(TOP_CAP_YLABEL)\n",
    "plt.show()"
   ]
  },
  {
   "cell_type": "code",
   "execution_count": 19,
   "id": "332e0345",
   "metadata": {},
   "outputs": [
    {
     "data": {
      "image/png": "[encoded data removed]",
      "text/plain": [
       "<Figure size 792x792 with 2 Axes>"
      ]
     },
     "metadata": {
      "needs_background": "light"
     },
     "output_type": "display_data"
    }
   ],
   "source": [
    "fig, axes = plt.subplots(2,figsize=(11, 11))\n",
    "fig.suptitle('Market capitalization')\n",
    "ax = cap10.plot(y=\"market_cap_perc\",kind=\"bar\",color=\"darkred\",title='Top 10 market capitalization 2017 %',ax=axes[0])\n",
    "ax = cap10_18.plot(y=\"market_cap_perc\",kind=\"bar\",color=\"darkblue\",title='Top 10 market capitalization 2018 %',ax=axes[1])\n",
    "plt.subplots_adjust(hspace=0.5)"
   ]
  },
  {
   "cell_type": "code",
   "execution_count": 20,
   "id": "91e51dba",
   "metadata": {},
   "outputs": [
    {
     "name": "stdout",
     "output_type": "stream",
     "text": [
      "              market_cap_usd  market_cap_perc  market_cap_change\n",
      "id                                                              \n",
      "bitcoin         284909052105        37.447419         -19.471250\n",
      "ripple          119207709132        15.668232          13.166169\n",
      "ethereum        100115499075        13.158820           1.529411\n",
      "bitcoin-cash     44424061657         5.838939          -0.919150\n",
      "cardano          25916647856         3.406391           2.543078\n",
      "litecoin         16574020942         2.178430           0.673106\n",
      "nem              14813369998         1.947016                NaN\n",
      "stellar          12634630726         1.660650                NaN\n",
      "tron             11741640953         1.543279                NaN\n",
      "iota             11143859582         1.464709          -2.476529\n"
     ]
    }
   ],
   "source": [
    "cap10_18 = cap10_18.assign(market_cap_change = lambda x: (x.market_cap_perc - cap10.market_cap_perc))\n",
    "print(cap10_18)"
   ]
  },
  {
   "cell_type": "markdown",
   "id": "cfc1e5a2",
   "metadata": {},
   "source": [
    "We see that bitcoin still has the biggest market capitalization although it has been decreased.Ripple has the biggest evolve in its share while there are 3 new bitcoins that made the top 10 list. These are the ones with NaN values in the market_cap_change column"
   ]
  },
  {
   "cell_type": "code",
   "execution_count": 21,
   "id": "1af672ca",
   "metadata": {},
   "outputs": [
    {
     "name": "stdout",
     "output_type": "stream",
     "text": [
      "          percent_change_24h  percent_change_7d\n",
      "id                                             \n",
      "ardor                 -20.83               2.76\n",
      "tenx                  -15.81               6.55\n",
      "tron                  -12.63             434.36\n",
      "digixdao              -12.19              15.65\n",
      "status                -11.95             201.88\n",
      "percent_change_24h     5.76\n",
      "percent_change_7d     26.04\n",
      "Name: bitcoin, dtype: float64\n"
     ]
    }
   ],
   "source": [
    "volatility18 = df18[[\"id\",\"percent_change_24h\",\"percent_change_7d\"]]\n",
    "volatility18 =volatility18.set_index(\"id\")\n",
    "volatility18 =volatility18.dropna()\n",
    "volatility18 =volatility18.sort_values(\"percent_change_24h\",ascending=True)\n",
    "print(volatility18.head())\n",
    "print(volatility18.loc['bitcoin'])"
   ]
  },
  {
   "cell_type": "code",
   "execution_count": 22,
   "id": "4cbff5a5",
   "metadata": {},
   "outputs": [
    {
     "data": {
      "image/png": "[encoded data removed]",
      "text/plain": [
       "<Figure size 720x432 with 2 Axes>"
      ]
     },
     "metadata": {
      "needs_background": "light"
     },
     "output_type": "display_data"
    }
   ],
   "source": [
    "fig, ax = top10_subplot(volatility18.percent_change_24h, DTITLE)"
   ]
  },
  {
   "cell_type": "code",
   "execution_count": 23,
   "id": "6dead308",
   "metadata": {},
   "outputs": [
    {
     "data": {
      "image/png": "[encoded data removed]",
      "text/plain": [
       "<Figure size 720x432 with 2 Axes>"
      ]
     },
     "metadata": {
      "needs_background": "light"
     },
     "output_type": "display_data"
    }
   ],
   "source": [
    "volatility18 =volatility18.sort_values(\"percent_change_7d\",ascending=True)\n",
    "fig, ax =top10_subplot(volatility18.percent_change_7d, WTITLE)"
   ]
  },
  {
   "cell_type": "markdown",
   "id": "adc37f7b",
   "metadata": {},
   "source": [
    "There seem to be big changes that strengthen the sense instability and unpredicatibility. We see that biggest loss is smaller in terms of percentage if we compare to the dataset of 2017. This also hold for the biggest win."
   ]
  },
  {
   "cell_type": "code",
   "execution_count": 24,
   "id": "13dfd024",
   "metadata": {},
   "outputs": [
    {
     "name": "stdout",
     "output_type": "stream",
     "text": [
      "             id  market_cap_usd\n",
      "0       bitcoin    284909052105\n",
      "1        ripple    119207709132\n",
      "2      ethereum    100115499075\n",
      "3  bitcoin-cash     44424061657\n",
      "4       cardano     25916647856\n",
      "5      litecoin     16574020942\n",
      "6           nem     14813369998\n",
      "7       stellar     12634630726\n",
      "8          tron     11741640953\n",
      "9          iota     11143859582\n"
     ]
    }
   ],
   "source": [
    "largecaps =cap_18.query('market_cap_usd > 10**10 ' )\n",
    "print(largecaps)"
   ]
  },
  {
   "cell_type": "markdown",
   "id": "06f43616",
   "metadata": {},
   "source": [
    "We see that there are more bitcoins(10) that fall in the large-capital category compared to 2017 (4)."
   ]
  },
  {
   "cell_type": "code",
   "execution_count": 25,
   "id": "4d9919fb",
   "metadata": {},
   "outputs": [
    {
     "name": "stdout",
     "output_type": "stream",
     "text": [
      "[99, 1, 0]\n"
     ]
    },
    {
     "data": {
      "text/plain": [
       "[]"
      ]
     },
     "execution_count": 25,
     "metadata": {},
     "output_type": "execute_result"
    },
    {
     "data": {
      "image/png": "[encoded data removed]",
      "text/plain": [
       "<Figure size 432x288 with 1 Axes>"
      ]
     },
     "metadata": {
      "needs_background": "light"
     },
     "output_type": "display_data"
    }
   ],
   "source": [
    "# Making a function for counting different marketcaps from the cap dataframe. We make the classification according to investopedia\n",
    "\n",
    "def capcount(query_string):\n",
    "    return cap_18.query(query_string).count().id\n",
    "\n",
    "# Labels for the plot\n",
    "LABELS = [\"biggish\", \"micro\", \"nano\"]\n",
    "\n",
    "\n",
    "biggish = capcount(\"market_cap_usd > 3E+8\")\n",
    "micro = capcount(\"market_cap_usd >= 5E+7 & market_cap_usd < 3E+8\")\n",
    "nano =  capcount(\"market_cap_usd < 5E+7\")\n",
    "\n",
    "# Making a list with the 3 counts\n",
    "values = [biggish, micro, nano]\n",
    "print(values)\n",
    "\n",
    "plt.bar(range(len(values)), values, tick_label=LABELS)\n",
    "plt.plot()"
   ]
  },
  {
   "cell_type": "markdown",
   "id": "62e9818f",
   "metadata": {},
   "source": [
    "# Dataset comparison"
   ]
  },
  {
   "cell_type": "code",
   "execution_count": 29,
   "id": "d5757e9a",
   "metadata": {},
   "outputs": [],
   "source": [
    "common = pd.merge(df17, df18, how='inner', on=['id'], suffixes=('_17', '_18'))"
   ]
  },
  {
   "cell_type": "code",
   "execution_count": 30,
   "id": "b5997c0d",
   "metadata": {},
   "outputs": [
    {
     "name": "stdout",
     "output_type": "stream",
     "text": [
      "96\n"
     ]
    }
   ],
   "source": [
    "print(len(common))"
   ]
  },
  {
   "cell_type": "code",
   "execution_count": 31,
   "id": "dd975456",
   "metadata": {},
   "outputs": [
    {
     "data": {
      "text/html": [
       "<div>\n",
       "<style scoped>\n",
       "    .dataframe tbody tr th:only-of-type {\n",
       "        vertical-align: middle;\n",
       "    }\n",
       "\n",
       "    .dataframe tbody tr th {\n",
       "        vertical-align: top;\n",
       "    }\n",
       "\n",
       "    .dataframe thead th {\n",
       "        text-align: right;\n",
       "    }\n",
       "</style>\n",
       "<table border=\"1\" class=\"dataframe\">\n",
       "  <thead>\n",
       "    <tr style=\"text-align: right;\">\n",
       "      <th></th>\n",
       "      <th>Unnamed: 0_17</th>\n",
       "      <th>24h_volume_usd_17</th>\n",
       "      <th>available_supply_17</th>\n",
       "      <th>id</th>\n",
       "      <th>last_updated_17</th>\n",
       "      <th>market_cap_usd_17</th>\n",
       "      <th>max_supply_17</th>\n",
       "      <th>name_17</th>\n",
       "      <th>percent_change_1h_17</th>\n",
       "      <th>percent_change_24h_17</th>\n",
       "      <th>...</th>\n",
       "      <th>max_supply_18</th>\n",
       "      <th>name_18</th>\n",
       "      <th>percent_change_1h_18</th>\n",
       "      <th>percent_change_24h_18</th>\n",
       "      <th>percent_change_7d_18</th>\n",
       "      <th>price_btc_18</th>\n",
       "      <th>price_usd_18</th>\n",
       "      <th>rank_18</th>\n",
       "      <th>symbol_18</th>\n",
       "      <th>total_supply_18</th>\n",
       "    </tr>\n",
       "  </thead>\n",
       "  <tbody>\n",
       "    <tr>\n",
       "      <th>0</th>\n",
       "      <td>0</td>\n",
       "      <td>9.007640e+09</td>\n",
       "      <td>1.672352e+07</td>\n",
       "      <td>bitcoin</td>\n",
       "      <td>1512549554</td>\n",
       "      <td>2.130493e+11</td>\n",
       "      <td>2.100000e+07</td>\n",
       "      <td>Bitcoin</td>\n",
       "      <td>0.12</td>\n",
       "      <td>7.33</td>\n",
       "      <td>...</td>\n",
       "      <td>2.100000e+07</td>\n",
       "      <td>Bitcoin</td>\n",
       "      <td>-0.42</td>\n",
       "      <td>5.76</td>\n",
       "      <td>26.04</td>\n",
       "      <td>1.000000</td>\n",
       "      <td>16973.80000</td>\n",
       "      <td>1</td>\n",
       "      <td>BTC</td>\n",
       "      <td>16785225</td>\n",
       "    </tr>\n",
       "    <tr>\n",
       "      <th>1</th>\n",
       "      <td>1</td>\n",
       "      <td>1.551330e+09</td>\n",
       "      <td>9.616537e+07</td>\n",
       "      <td>ethereum</td>\n",
       "      <td>1512549553</td>\n",
       "      <td>4.352945e+10</td>\n",
       "      <td>NaN</td>\n",
       "      <td>Ethereum</td>\n",
       "      <td>-0.18</td>\n",
       "      <td>-3.93</td>\n",
       "      <td>...</td>\n",
       "      <td>NaN</td>\n",
       "      <td>Ethereum</td>\n",
       "      <td>0.29</td>\n",
       "      <td>-1.04</td>\n",
       "      <td>45.01</td>\n",
       "      <td>0.062517</td>\n",
       "      <td>1034.21000</td>\n",
       "      <td>3</td>\n",
       "      <td>ETH</td>\n",
       "      <td>96803840</td>\n",
       "    </tr>\n",
       "    <tr>\n",
       "      <th>2</th>\n",
       "      <td>2</td>\n",
       "      <td>1.111350e+09</td>\n",
       "      <td>1.684044e+07</td>\n",
       "      <td>bitcoin-cash</td>\n",
       "      <td>1512549578</td>\n",
       "      <td>2.529585e+10</td>\n",
       "      <td>2.100000e+07</td>\n",
       "      <td>Bitcoin Cash</td>\n",
       "      <td>1.65</td>\n",
       "      <td>-5.51</td>\n",
       "      <td>...</td>\n",
       "      <td>2.100000e+07</td>\n",
       "      <td>Bitcoin Cash</td>\n",
       "      <td>0.03</td>\n",
       "      <td>7.99</td>\n",
       "      <td>2.81</td>\n",
       "      <td>0.158934</td>\n",
       "      <td>2629.23000</td>\n",
       "      <td>4</td>\n",
       "      <td>BCH</td>\n",
       "      <td>16896225</td>\n",
       "    </tr>\n",
       "    <tr>\n",
       "      <th>3</th>\n",
       "      <td>3</td>\n",
       "      <td>2.936090e+09</td>\n",
       "      <td>2.779530e+09</td>\n",
       "      <td>iota</td>\n",
       "      <td>1512549571</td>\n",
       "      <td>1.475225e+10</td>\n",
       "      <td>2.779530e+09</td>\n",
       "      <td>IOTA</td>\n",
       "      <td>-2.38</td>\n",
       "      <td>83.35</td>\n",
       "      <td>...</td>\n",
       "      <td>2.779530e+09</td>\n",
       "      <td>IOTA</td>\n",
       "      <td>-3.03</td>\n",
       "      <td>0.89</td>\n",
       "      <td>19.45</td>\n",
       "      <td>0.000242</td>\n",
       "      <td>4.00926</td>\n",
       "      <td>10</td>\n",
       "      <td>MIOTA</td>\n",
       "      <td>2779530283</td>\n",
       "    </tr>\n",
       "    <tr>\n",
       "      <th>4</th>\n",
       "      <td>4</td>\n",
       "      <td>2.315050e+08</td>\n",
       "      <td>3.873915e+10</td>\n",
       "      <td>ripple</td>\n",
       "      <td>1512549541</td>\n",
       "      <td>9.365343e+09</td>\n",
       "      <td>1.000000e+11</td>\n",
       "      <td>Ripple</td>\n",
       "      <td>0.56</td>\n",
       "      <td>-3.70</td>\n",
       "      <td>...</td>\n",
       "      <td>1.000000e+11</td>\n",
       "      <td>Ripple</td>\n",
       "      <td>-0.26</td>\n",
       "      <td>-9.23</td>\n",
       "      <td>24.15</td>\n",
       "      <td>0.000186</td>\n",
       "      <td>3.07719</td>\n",
       "      <td>2</td>\n",
       "      <td>XRP</td>\n",
       "      <td>99993093880</td>\n",
       "    </tr>\n",
       "  </tbody>\n",
       "</table>\n",
       "<p>5 rows × 31 columns</p>\n",
       "</div>"
      ],
      "text/plain": [
       "   Unnamed: 0_17  24h_volume_usd_17  available_supply_17            id  \\\n",
       "0              0       9.007640e+09         1.672352e+07       bitcoin   \n",
       "1              1       1.551330e+09         9.616537e+07      ethereum   \n",
       "2              2       1.111350e+09         1.684044e+07  bitcoin-cash   \n",
       "3              3       2.936090e+09         2.779530e+09          iota   \n",
       "4              4       2.315050e+08         3.873915e+10        ripple   \n",
       "\n",
       "   last_updated_17  market_cap_usd_17  max_supply_17       name_17  \\\n",
       "0       1512549554       2.130493e+11   2.100000e+07       Bitcoin   \n",
       "1       1512549553       4.352945e+10            NaN      Ethereum   \n",
       "2       1512549578       2.529585e+10   2.100000e+07  Bitcoin Cash   \n",
       "3       1512549571       1.475225e+10   2.779530e+09          IOTA   \n",
       "4       1512549541       9.365343e+09   1.000000e+11        Ripple   \n",
       "\n",
       "   percent_change_1h_17  percent_change_24h_17  ...  max_supply_18  \\\n",
       "0                  0.12                   7.33  ...   2.100000e+07   \n",
       "1                 -0.18                  -3.93  ...            NaN   \n",
       "2                  1.65                  -5.51  ...   2.100000e+07   \n",
       "3                 -2.38                  83.35  ...   2.779530e+09   \n",
       "4                  0.56                  -3.70  ...   1.000000e+11   \n",
       "\n",
       "        name_18  percent_change_1h_18  percent_change_24h_18  \\\n",
       "0       Bitcoin                 -0.42                   5.76   \n",
       "1      Ethereum                  0.29                  -1.04   \n",
       "2  Bitcoin Cash                  0.03                   7.99   \n",
       "3          IOTA                 -3.03                   0.89   \n",
       "4        Ripple                 -0.26                  -9.23   \n",
       "\n",
       "  percent_change_7d_18  price_btc_18  price_usd_18  rank_18  symbol_18  \\\n",
       "0                26.04      1.000000   16973.80000        1        BTC   \n",
       "1                45.01      0.062517    1034.21000        3        ETH   \n",
       "2                 2.81      0.158934    2629.23000        4        BCH   \n",
       "3                19.45      0.000242       4.00926       10      MIOTA   \n",
       "4                24.15      0.000186       3.07719        2        XRP   \n",
       "\n",
       "   total_supply_18  \n",
       "0         16785225  \n",
       "1         96803840  \n",
       "2         16896225  \n",
       "3       2779530283  \n",
       "4      99993093880  \n",
       "\n",
       "[5 rows x 31 columns]"
      ]
     },
     "execution_count": 31,
     "metadata": {},
     "output_type": "execute_result"
    }
   ],
   "source": [
    "common.head()"
   ]
  },
  {
   "cell_type": "code",
   "execution_count": 32,
   "id": "a6ee1d34",
   "metadata": {},
   "outputs": [],
   "source": [
    "common=common[[\"id\",\"percent_change_24h_18\",\"percent_change_24h_17\",\"percent_change_7d_18\",\"percent_change_7d_17\",\"market_cap_usd_18\",\"market_cap_usd_17\"]]"
   ]
  },
  {
   "cell_type": "code",
   "execution_count": 33,
   "id": "506b1a01",
   "metadata": {
    "scrolled": true
   },
   "outputs": [
    {
     "data": {
      "text/html": [
       "<div>\n",
       "<style scoped>\n",
       "    .dataframe tbody tr th:only-of-type {\n",
       "        vertical-align: middle;\n",
       "    }\n",
       "\n",
       "    .dataframe tbody tr th {\n",
       "        vertical-align: top;\n",
       "    }\n",
       "\n",
       "    .dataframe thead th {\n",
       "        text-align: right;\n",
       "    }\n",
       "</style>\n",
       "<table border=\"1\" class=\"dataframe\">\n",
       "  <thead>\n",
       "    <tr style=\"text-align: right;\">\n",
       "      <th></th>\n",
       "      <th>id</th>\n",
       "      <th>percent_change_24h_18</th>\n",
       "      <th>percent_change_24h_17</th>\n",
       "      <th>percent_change_7d_18</th>\n",
       "      <th>percent_change_7d_17</th>\n",
       "      <th>market_cap_usd_18</th>\n",
       "      <th>market_cap_usd_17</th>\n",
       "    </tr>\n",
       "  </thead>\n",
       "  <tbody>\n",
       "    <tr>\n",
       "      <th>0</th>\n",
       "      <td>bitcoin</td>\n",
       "      <td>5.76</td>\n",
       "      <td>7.33</td>\n",
       "      <td>26.04</td>\n",
       "      <td>17.45</td>\n",
       "      <td>284909052105</td>\n",
       "      <td>2.130493e+11</td>\n",
       "    </tr>\n",
       "    <tr>\n",
       "      <th>1</th>\n",
       "      <td>ethereum</td>\n",
       "      <td>-1.04</td>\n",
       "      <td>-3.93</td>\n",
       "      <td>45.01</td>\n",
       "      <td>-7.33</td>\n",
       "      <td>100115499075</td>\n",
       "      <td>4.352945e+10</td>\n",
       "    </tr>\n",
       "    <tr>\n",
       "      <th>2</th>\n",
       "      <td>bitcoin-cash</td>\n",
       "      <td>7.99</td>\n",
       "      <td>-5.51</td>\n",
       "      <td>2.81</td>\n",
       "      <td>-4.75</td>\n",
       "      <td>44424061657</td>\n",
       "      <td>2.529585e+10</td>\n",
       "    </tr>\n",
       "    <tr>\n",
       "      <th>3</th>\n",
       "      <td>iota</td>\n",
       "      <td>0.89</td>\n",
       "      <td>83.35</td>\n",
       "      <td>19.45</td>\n",
       "      <td>255.82</td>\n",
       "      <td>11143859582</td>\n",
       "      <td>1.475225e+10</td>\n",
       "    </tr>\n",
       "    <tr>\n",
       "      <th>4</th>\n",
       "      <td>ripple</td>\n",
       "      <td>-9.23</td>\n",
       "      <td>-3.70</td>\n",
       "      <td>24.15</td>\n",
       "      <td>-14.79</td>\n",
       "      <td>119207709132</td>\n",
       "      <td>9.365343e+09</td>\n",
       "    </tr>\n",
       "  </tbody>\n",
       "</table>\n",
       "</div>"
      ],
      "text/plain": [
       "             id  percent_change_24h_18  percent_change_24h_17  \\\n",
       "0       bitcoin                   5.76                   7.33   \n",
       "1      ethereum                  -1.04                  -3.93   \n",
       "2  bitcoin-cash                   7.99                  -5.51   \n",
       "3          iota                   0.89                  83.35   \n",
       "4        ripple                  -9.23                  -3.70   \n",
       "\n",
       "   percent_change_7d_18  percent_change_7d_17  market_cap_usd_18  \\\n",
       "0                 26.04                 17.45       284909052105   \n",
       "1                 45.01                 -7.33       100115499075   \n",
       "2                  2.81                 -4.75        44424061657   \n",
       "3                 19.45                255.82        11143859582   \n",
       "4                 24.15                -14.79       119207709132   \n",
       "\n",
       "   market_cap_usd_17  \n",
       "0       2.130493e+11  \n",
       "1       4.352945e+10  \n",
       "2       2.529585e+10  \n",
       "3       1.475225e+10  \n",
       "4       9.365343e+09  "
      ]
     },
     "execution_count": 33,
     "metadata": {},
     "output_type": "execute_result"
    }
   ],
   "source": [
    "common.head()"
   ]
  },
  {
   "cell_type": "code",
   "execution_count": 34,
   "id": "9913b0be",
   "metadata": {},
   "outputs": [
    {
     "data": {
      "text/plain": [
       "96"
      ]
     },
     "execution_count": 34,
     "metadata": {},
     "output_type": "execute_result"
    }
   ],
   "source": [
    "query='percent_change_7d_18 ==percent_change_7d_18 & market_cap_usd_18 == market_cap_usd_18'\n",
    "cap_common=common.query(query)\n",
    "len(cap_common)"
   ]
  },
  {
   "cell_type": "code",
   "execution_count": 35,
   "id": "a4769ca7",
   "metadata": {},
   "outputs": [
    {
     "name": "stdout",
     "output_type": "stream",
     "text": [
      "0\n",
      "0\n",
      "0\n",
      "-1\n",
      "0\n",
      "-4\n"
     ]
    }
   ],
   "source": [
    "print(cap_common[\"percent_change_24h_18\"].count()-cap_common[\"id\"].count())\n",
    "print(cap_common[\"percent_change_24h_17\"].count()-cap_common[\"id\"].count())\n",
    "print(cap_common[\"percent_change_7d_18\"].count()-cap_common[\"id\"].count())\n",
    "print(cap_common[\"percent_change_7d_17\"].count()-cap_common[\"id\"].count())\n",
    "print(cap_common[\"market_cap_usd_18\"].count()-cap_common[\"id\"].count())\n",
    "print(cap_common[\"market_cap_usd_17\"].count()-cap_common[\"id\"].count())"
   ]
  },
  {
   "cell_type": "code",
   "execution_count": 36,
   "id": "5bf6069f",
   "metadata": {},
   "outputs": [],
   "source": [
    "cap_common10=cap_common.sort_values(by=\"market_cap_usd_18\",ascending=False).iloc[0:10]"
   ]
  },
  {
   "cell_type": "code",
   "execution_count": 37,
   "id": "bba2a24f",
   "metadata": {},
   "outputs": [
    {
     "data": {
      "image/png": "[encoded data removed]",
      "text/plain": [
       "<Figure size 432x288 with 1 Axes>"
      ]
     },
     "metadata": {
      "needs_background": "light"
     },
     "output_type": "display_data"
    }
   ],
   "source": [
    "cap_common10.plot(x=\"id\",y=[\"percent_change_24h_18\",\"percent_change_24h_17\"],kind=\"bar\")\n",
    "plt.show()"
   ]
  },
  {
   "cell_type": "code",
   "execution_count": 38,
   "id": "4b0bd4b3",
   "metadata": {},
   "outputs": [],
   "source": [
    "cap_common = cap_common.assign(market_cap_change = lambda x: (x.market_cap_usd_18 - x.market_cap_usd_17))\n",
    "cap_common=cap_common.sort_values(\"market_cap_change\",ascending=True)\n",
    "cap_common=cap_common.set_index(\"id\")\n"
   ]
  },
  {
   "cell_type": "code",
   "execution_count": 39,
   "id": "a3f9cf92",
   "metadata": {},
   "outputs": [
    {
     "data": {
      "image/png": "[encoded data removed]",
      "text/plain": [
       "<Figure size 648x504 with 2 Axes>"
      ]
     },
     "metadata": {
      "needs_background": "light"
     },
     "output_type": "display_data"
    }
   ],
   "source": [
    "fig, axes = plt.subplots(1,2,figsize=(9, 7))\n",
    "fig.suptitle('Market capitalization change')\n",
    "ax = cap_common[:10].plot(y=\"market_cap_change\",kind=\"bar\",color=\"darkred\",title='Worst 10 market capitalization change \\n ',ax=axes[0])\n",
    "ax = cap_common[-10:].plot(y=\"market_cap_change\",kind=\"bar\",color=\"darkblue\",title='Top 10 market capitalization change \\n',ax=axes[1])\n",
    "plt.subplots_adjust(hspace=1)\n",
    "plt.show()"
   ]
  },
  {
   "cell_type": "markdown",
   "id": "b4984b0b",
   "metadata": {},
   "source": [
    "Iota had the worst change in its market cap while ripple had the best"
   ]
  },
  {
   "cell_type": "code",
   "execution_count": 40,
   "id": "ac72aad9",
   "metadata": {},
   "outputs": [
    {
     "data": {
      "text/plain": [
       "percent_change_24h_18    8.900000e-01\n",
       "percent_change_24h_17    8.335000e+01\n",
       "percent_change_7d_18     1.945000e+01\n",
       "percent_change_7d_17     2.558200e+02\n",
       "market_cap_usd_18        1.114386e+10\n",
       "market_cap_usd_17        1.475225e+10\n",
       "market_cap_change       -3.608386e+09\n",
       "Name: iota, dtype: float64"
      ]
     },
     "execution_count": 40,
     "metadata": {},
     "output_type": "execute_result"
    }
   ],
   "source": [
    "cap_common.loc[\"iota\"]"
   ]
  },
  {
   "cell_type": "code",
   "execution_count": 41,
   "id": "c3305719",
   "metadata": {},
   "outputs": [
    {
     "data": {
      "text/plain": [
       "percent_change_24h_18   -9.230000e+00\n",
       "percent_change_24h_17   -3.700000e+00\n",
       "percent_change_7d_18     2.415000e+01\n",
       "percent_change_7d_17    -1.479000e+01\n",
       "market_cap_usd_18        1.192077e+11\n",
       "market_cap_usd_17        9.365343e+09\n",
       "market_cap_change        1.098424e+11\n",
       "Name: ripple, dtype: float64"
      ]
     },
     "execution_count": 41,
     "metadata": {},
     "output_type": "execute_result"
    }
   ],
   "source": [
    "cap_common.loc[\"ripple\"]"
   ]
  },
  {
   "cell_type": "code",
   "execution_count": 42,
   "id": "71f1c766",
   "metadata": {},
   "outputs": [],
   "source": [
    "cap_common[\"market_cap_17_sum\"]=cap_common[\"market_cap_usd_17\"].sum()"
   ]
  },
  {
   "cell_type": "code",
   "execution_count": 43,
   "id": "ad24d917",
   "metadata": {},
   "outputs": [],
   "source": [
    "cap_common[\"market_cap_18_sum\"]=cap_common[\"market_cap_usd_18\"].sum()"
   ]
  },
  {
   "cell_type": "code",
   "execution_count": 44,
   "id": "3a703dff",
   "metadata": {
    "scrolled": true
   },
   "outputs": [
    {
     "name": "stdout",
     "output_type": "stream",
     "text": [
      "394093075257.0\n"
     ]
    }
   ],
   "source": [
    "#We will examine if the total sum of the market_cap in USD has increased in one year. \n",
    "#Note that this difference takes account only the bitcoins that are common in the two dataframes\n",
    "\n",
    "common_df=cap_common[\"market_cap_18_sum\"]-cap_common[\"market_cap_17_sum\"]\n",
    "print(common_df.loc[\"bitcoin\"])"
   ]
  },
  {
   "cell_type": "markdown",
   "id": "90705e93",
   "metadata": {},
   "source": [
    "We see that the total sum of the market_cap in USD has increased over 1 year"
   ]
  },
  {
   "cell_type": "code",
   "execution_count": null,
   "id": "45e5e165",
   "metadata": {},
   "outputs": [],
   "source": []
  }
 ],
 "metadata": {
  "kernelspec": {
   "display_name": "Python 3",
   "language": "python",
   "name": "python3"
  },
  "language_info": {
   "codemirror_mode": {
    "name": "ipython",
    "version": 3
   },
   "file_extension": ".py",
   "mimetype": "text/x-python",
   "name": "python",
   "nbconvert_exporter": "python",
   "pygments_lexer": "ipython3",
   "version": "3.8.8"
  }
 },
 "nbformat": 4,
 "nbformat_minor": 5
}
